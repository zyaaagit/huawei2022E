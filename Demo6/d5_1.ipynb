{
 "cells": [
  {
   "cell_type": "code",
   "execution_count": 1,
   "metadata": {},
   "outputs": [],
   "source": [
    "import pandas as pd\n",
    "import numpy as np\n",
    "import matplotlib.pyplot as plt\n",
    "from matplotlib.animation import FuncAnimation\n",
    "import matplotlib; \n",
    "from IPython.display import HTML"
   ]
  },
  {
   "cell_type": "code",
   "execution_count": 2,
   "metadata": {},
   "outputs": [],
   "source": [
    "def draw(item):\n",
    "    plt.cla()  # 清空原有内容\n",
    "    date = item[0]  # 获取日期\n",
    "    data = item[1]  # 获取该日期下各编程语言占比\n",
    "    temp_index = np.argsort(data[\"value\"])  # 从大到小排序，获取排序后的索引\n",
    "    values = data[\"value\"].values[temp_index]  # 排序后的值\n",
    "    names = data[\"name\"].values[temp_index]  # 排序后的名称\n",
    "    colors = [\"r\", \"b\", \"y\", \"c\", \"g\", \"m\", \"pink\", \"purple\", \"gray\", \"orange\"]  # 定义颜色列表\n",
    "    # 绘制水平条形图\n",
    "    plt.barh(range(1, len(values) + 1), values, color=colors)\n",
    "    plt.yticks(range(1, len(values) + 1), names)  # Y轴标签\n",
    "    plt.xlim(0, max(values) + 2)  # X轴取值范围，在最大值基础上加2，从而有足够空间显示数据\n",
    "    plt.title(\"编程语言排行榜--{}\".format(date), fontsize=20)  # 标题，显示日期\n",
    "    for x in range(1, len(values) + 1):  # 在图中显示各编程语言的占比\n",
    "        plt.text(values[x - 1] + 0.1, x - 0.1, str(values[x - 1]) + \"%\", fontsize=14)"
   ]
  },
  {
   "cell_type": "code",
   "execution_count": 4,
   "metadata": {},
   "outputs": [
    {
     "data": {
      "text/plain": [
       "<Figure size 864x432 with 0 Axes>"
      ]
     },
     "metadata": {},
     "output_type": "display_data"
    }
   ],
   "source": [
    "datas = pd.read_excel(\"湿度9月份.xlsx\")  # 读取数据\n",
    "temp = datas.groupby(\"年份\")  # 按照日期进行分组\n",
    "fig = plt.figure(figsize=(12, 6))  # 创建图\n",
    "plt.rcParams[\"font.family\"] = \"FangSong\"  # 支持中文显示\n",
    "ani = FuncAnimation(fig, draw, frames=temp, interval=50, blit=False, repeat=False)  # 创建动画效果\n",
    "plt.show()"
   ]
  },
  {
   "cell_type": "code",
   "execution_count": 4,
   "metadata": {},
   "outputs": [],
   "source": [
    "plt.show()  # 显示图片"
   ]
  }
 ],
 "metadata": {
  "kernelspec": {
   "display_name": "Python 3.9.7 ('base')",
   "language": "python",
   "name": "python3"
  },
  "language_info": {
   "codemirror_mode": {
    "name": "ipython",
    "version": 3
   },
   "file_extension": ".py",
   "mimetype": "text/x-python",
   "name": "python",
   "nbconvert_exporter": "python",
   "pygments_lexer": "ipython3",
   "version": "3.9.7"
  },
  "orig_nbformat": 4,
  "vscode": {
   "interpreter": {
    "hash": "ad2bdc8ecc057115af97d19610ffacc2b4e99fae6737bb82f5d7fb13d2f2c186"
   }
  }
 },
 "nbformat": 4,
 "nbformat_minor": 2
}

{
 "cells": [
  {
   "cell_type": "code",
   "execution_count": 38,
   "metadata": {},
   "outputs": [],
   "source": [
    "import pandas as pd\n",
    "import numpy as np\n",
    "import matplotlib.pyplot as plt\n",
    "import seaborn as sns"
   ]
  },
  {
   "cell_type": "code",
   "execution_count": 39,
   "metadata": {},
   "outputs": [],
   "source": [
    "soil_m = pd.read_excel(\"土壤湿度.xls\")\n",
    "soil_m_jz = soil_m.groupby(\"年份\").mean()\n",
    "data = soil_m_jz\n",
    "data = data.drop(columns=[\"月份\",\"经度(lon)\",\"纬度(lat)\"])"
   ]
  },
  {
   "cell_type": "code",
   "execution_count": 40,
   "metadata": {},
   "outputs": [],
   "source": [
    "#data.to_excel(\"处理后的土壤湿度.xlsx\")"
   ]
  },
  {
   "cell_type": "code",
   "execution_count": 67,
   "metadata": {},
   "outputs": [],
   "source": [
    "data = pd.read_excel(\"处理后的土壤湿度.xlsx\")"
   ]
  },
  {
   "cell_type": "code",
   "execution_count": 85,
   "metadata": {},
   "outputs": [],
   "source": [
    "from re import X\n",
    "from sklearn.linear_model import LinearRegression #导入机器学习库中的线性回归模块\n",
    "from sklearn.preprocessing import MinMaxScaler #从preprocessing库导入MinMaxScaler函数"
   ]
  },
  {
   "cell_type": "code",
   "execution_count": 87,
   "metadata": {},
   "outputs": [],
   "source": [
    "def lagrange(x, y, num_points, x_test):\n",
    "    # 所有的基函数值，每个元素代表一个基函数的值\n",
    "    l = np.zeros(shape=(num_points, ))\n",
    "\n",
    "    # 计算第k个基函数的值\n",
    "    for k in range(num_points):\n",
    "        # 乘法时必须先有一个值\n",
    "        # 由于l[k]肯定会被至少乘n次，所以可以取1\n",
    "        l[k] = 1\n",
    "        # 计算第k个基函数中第k_个项（每一项：分子除以分母）\n",
    "        for k_ in range(num_points):\n",
    "            # 这里没搞清楚，书中公式上没有对k=k_时，即分母为0进行说明\n",
    "            # 有些资料上显示k是不等于k_的\n",
    "            if k != k_:\n",
    "                # 基函数需要通过连乘得到\n",
    "                l[k] = l[k]*(x_test-x[k_])/(x[k]-x[k_])\n",
    "            else:\n",
    "                pass \n",
    "    # 计算当前需要预测的x_test对应的y_test值        \n",
    "    L = 0\n",
    "    for i in range(num_points):\n",
    "        # 求所有基函数值的和\n",
    "        L += y[i]*l[i]\n",
    "    return L"
   ]
  },
  {
   "cell_type": "code",
   "execution_count": 90,
   "metadata": {},
   "outputs": [],
   "source": [
    "x = [10,40,100,200]\n",
    "x_t = list(np.linspace(10,200, 20))\n",
    "y = []\n",
    "for i in range(4):\n",
    "    y.append(data.iloc[i,1])\n",
    "y = [lagrange(x, y, len(x), x_i) for x_i in x_t]\n",
    "t = pd.DataFrame(y)"
   ]
  },
  {
   "cell_type": "code",
   "execution_count": 91,
   "metadata": {},
   "outputs": [],
   "source": [
    "x = [10,40,100,200]\n",
    "x_t = list(np.linspace(10,200, 20))\n",
    "for j in range(2,12):\n",
    "    y = []\n",
    "    for i in range(4):\n",
    "        y.append(data.iloc[i,j])\n",
    "    y = [lagrange(x, y, len(x), x_i) for x_i in x_t]\n",
    "    y = pd.DataFrame(y)\n",
    "    t = pd.concat([t,y],axis=1)"
   ]
  },
  {
   "cell_type": "code",
   "execution_count": 94,
   "metadata": {},
   "outputs": [],
   "source": [
    "#t.to_excel(\"土壤湿度预测.xlsx\")"
   ]
  }
 ],
 "metadata": {
  "kernelspec": {
   "display_name": "Python 3.9.7 ('base')",
   "language": "python",
   "name": "python3"
  },
  "language_info": {
   "codemirror_mode": {
    "name": "ipython",
    "version": 3
   },
   "file_extension": ".py",
   "mimetype": "text/x-python",
   "name": "python",
   "nbconvert_exporter": "python",
   "pygments_lexer": "ipython3",
   "version": "3.9.7"
  },
  "orig_nbformat": 4,
  "vscode": {
   "interpreter": {
    "hash": "ad2bdc8ecc057115af97d19610ffacc2b4e99fae6737bb82f5d7fb13d2f2c186"
   }
  }
 },
 "nbformat": 4,
 "nbformat_minor": 2
}

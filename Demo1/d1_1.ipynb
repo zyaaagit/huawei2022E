{
 "cells": [
  {
   "cell_type": "code",
   "execution_count": 2,
   "metadata": {},
   "outputs": [],
   "source": [
    "import pandas as pd\n",
    "import numpy as np\n",
    "import matplotlib.pyplot as plt\n",
    "import seaborn as sns"
   ]
  },
  {
   "cell_type": "code",
   "execution_count": 28,
   "metadata": {},
   "outputs": [],
   "source": [
    "b1 = pd.read_excel(\"表1放牧强度对土壤含水量的影响(%).xlsx\")\n",
    "b2 = pd.read_excel(\"表2不同放牧强度下土壤孔隙度Table3Soilporosityunderdifferentgrazingintensity%(1).xlsx\")\n",
    "b3 = pd.read_excel(\"表3放牧强度对土壤孔隙度的影响(%).xlsx\")"
   ]
  },
  {
   "cell_type": "code",
   "execution_count": 8,
   "metadata": {},
   "outputs": [],
   "source": [
    "b1_010 = b1.iloc[0:4,:]\n",
    "b1_1020 = b1.iloc[4:8,:]\n",
    "b1_2030 = b1.iloc[8:12,:]"
   ]
  },
  {
   "cell_type": "code",
   "execution_count": 25,
   "metadata": {},
   "outputs": [],
   "source": [
    "b2_05 = b2.iloc[0:4,:]\n",
    "b2_510 = b2.iloc[4:8,:]"
   ]
  },
  {
   "cell_type": "code",
   "execution_count": null,
   "metadata": {},
   "outputs": [],
   "source": [
    "b3_010 = b3.iloc[0:4,:]\n",
    "b3_1020 = b3.iloc[4:8,:]\n",
    "b3_2030 = b3.iloc[8:12,:]"
   ]
  },
  {
   "cell_type": "code",
   "execution_count": 26,
   "metadata": {},
   "outputs": [],
   "source": [
    "def zzt(data):\n",
    "    plt.rcParams['font.sans-serif'] = ['SimHei']  # 黑体\n",
    "    plt.rcParams['axes.unicode_minus'] = False    # 解决无法显示符号的问题\n",
    "    sns.set(font='SimHei', font_scale=1)        # 解决Seaborn中文显示问题\n",
    "    plt.subplots(figsize=(6,4),dpi=1080,facecolor='w')# 设置画布大小，分辨率，和底色\n",
    "\n",
    "    x = data['放牧时间/月']\n",
    "    x_width = range(0,len(x))\n",
    "    x2_width = [i+0.15 for i in x_width]\n",
    "    x3_width = [i+0.3 for i in x_width]\n",
    "    x4_width = [i+0.45 for i in x_width]\n",
    "\n",
    "    data_0 = data.iloc[:,2]\n",
    "    data_1 = data.iloc[:,3]\n",
    "    data_2 = data.iloc[:,4]\n",
    "    data_3 = data.iloc[:,5]\n",
    "\n",
    "    plt.bar(x_width,data_0,width = 0.15, color=\"w\",edgecolor=\"k\",hatch=\"///\",label = '对照')\n",
    "    plt.bar(x2_width,data_1,width = 0.15,color=\"w\",edgecolor=\"k\",hatch=\"xxx\",label = '轻度放牧')\n",
    "    plt.bar(x3_width,data_2,width = 0.15,color=\"gray\",edgecolor=\"k\",label = '中度放牧')\n",
    "    plt.bar(x4_width,data_3,width = 0.15,color=\"black\",edgecolor=\"k\",label = '重度放牧')\n",
    "\n",
    "    plt.legend(loc=2)\n",
    "    plt.xticks(range(0,4),x)"
   ]
  }
 ],
 "metadata": {
  "kernelspec": {
   "display_name": "Python 3.9.7 ('base')",
   "language": "python",
   "name": "python3"
  },
  "language_info": {
   "codemirror_mode": {
    "name": "ipython",
    "version": 3
   },
   "file_extension": ".py",
   "mimetype": "text/x-python",
   "name": "python",
   "nbconvert_exporter": "python",
   "pygments_lexer": "ipython3",
   "version": "3.9.7"
  },
  "orig_nbformat": 4,
  "vscode": {
   "interpreter": {
    "hash": "ad2bdc8ecc057115af97d19610ffacc2b4e99fae6737bb82f5d7fb13d2f2c186"
   }
  }
 },
 "nbformat": 4,
 "nbformat_minor": 2
}
